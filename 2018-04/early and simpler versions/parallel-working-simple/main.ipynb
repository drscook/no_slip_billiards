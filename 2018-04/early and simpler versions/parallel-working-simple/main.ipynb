{
 "cells": [
  {
   "cell_type": "markdown",
   "metadata": {},
   "source": [
    "Implements billiard dynamics of many spherical particles in arbitrary dimension with custom particle-wall and particle-particle collision maps on both CPU and GPU.\n",
    "\n",
    "Dr. Scott Cook - Tarleton State Univ - Dept of Mathematics\n",
    "\n",
    "Release notes 2018/04/13\n",
    "- Only handles cubical chamber.  More general shapes done in prior versions wo/ GPU support.  Plan to implement other shapes here soon.\n",
    "- Only handles specular reflection law.  More general collision laws done in prior versions wo/ GPU support.  Plan to implement other laws here soon.\n",
    "- Simulation can run entirely in \"serial\" mode without GPU hardware (or even without gpu_defs.py).\n",
    "- \"Parallel\" mode uses most of the same code as serial.  Main difference is that computation of particle-particle collision times is done on GPU, since that is the $O(n^2)$ calculation ($n$=number of particles).\n",
    "- Consider computing particle-wall collision time on GPU in the future.  But that is $O(n)$, so it is not clear how much speed up that will provide.\n",
    "- \"Parallel\" mode can run with or without verification against CPU using the \"check_gpu_against_cpu\" variable.  Verification adds significant time and should be used for code validation and debugging."
   ]
  },
  {
   "cell_type": "code",
   "execution_count": 2,
   "metadata": {
    "scrolled": false
   },
   "outputs": [
    {
     "name": "stdout",
     "output_type": "stream",
     "text": [
      "num_part = 32, step = 0, mode = serial\n",
      "num_part = 32, step = 200, mode = serial\n",
      "num_part = 32, step = 400, mode = serial\n",
      "num_part = 32, step = 600, mode = serial\n",
      "Done!! #Particles = 32, Steps = 800, Sim Time = 116.211514, Elapsed Time = 0.922552\n",
      "\n",
      "load_gpu\n"
     ]
    },
    {
     "ename": "NameError",
     "evalue": "name 'sync' is not defined",
     "output_type": "error",
     "traceback": [
      "\u001b[1;31m---------------------------------------------------------------------------\u001b[0m",
      "\u001b[1;31mNameError\u001b[0m                                 Traceback (most recent call last)",
      "\u001b[1;32m~\\Google Drive\\Math\\brazil\\unb_billiards\\code\\parallel new\\gpu_defs.py\u001b[0m in \u001b[0;36m<module>\u001b[1;34m()\u001b[0m\n\u001b[0;32m     56\u001b[0m             \u001b[0mget_ipython\u001b[0m\u001b[1;33m(\u001b[0m\u001b[1;33m)\u001b[0m\u001b[1;33m.\u001b[0m\u001b[0mrun_line_magic\u001b[0m\u001b[1;33m(\u001b[0m\u001b[1;34m'run'\u001b[0m\u001b[1;33m,\u001b[0m \u001b[1;34m'-i gpu_defs.py'\u001b[0m\u001b[1;33m)\u001b[0m\u001b[1;33m\u001b[0m\u001b[0m\n\u001b[0;32m     57\u001b[0m             \u001b[1;31m#exec(open(\"gpu_defs.py\").read())\u001b[0m\u001b[1;33m\u001b[0m\u001b[1;33m\u001b[0m\u001b[0m\n\u001b[1;32m---> 58\u001b[1;33m             \u001b[0mload_gpu\u001b[0m\u001b[1;33m(\u001b[0m\u001b[0mpart\u001b[0m\u001b[1;33m)\u001b[0m\u001b[1;33m\u001b[0m\u001b[0m\n\u001b[0m\u001b[0;32m     59\u001b[0m \u001b[1;33m\u001b[0m\u001b[0m\n\u001b[0;32m     60\u001b[0m         \u001b[1;32mdef\u001b[0m \u001b[0mget_col_time\u001b[0m\u001b[1;33m(\u001b[0m\u001b[0mpart\u001b[0m\u001b[1;33m)\u001b[0m\u001b[1;33m:\u001b[0m\u001b[1;33m\u001b[0m\u001b[0m\n",
      "\u001b[1;32m~\\Google Drive\\Math\\brazil\\unb_billiards\\code\\parallel new\\gpu_defs.py\u001b[0m in \u001b[0;36mload_gpu\u001b[1;34m(part)\u001b[0m\n\u001b[0;32m     74\u001b[0m \u001b[1;33m\u001b[0m\u001b[0m\n\u001b[0;32m     75\u001b[0m     \u001b[0mupdate_gpu\u001b[0m\u001b[1;33m(\u001b[0m\u001b[0mpart\u001b[0m\u001b[1;33m)\u001b[0m\u001b[1;33m\u001b[0m\u001b[0m\n\u001b[1;32m---> 76\u001b[1;33m     \u001b[0mcheck_gpu_sync\u001b[0m\u001b[1;33m(\u001b[0m\u001b[1;33m)\u001b[0m\u001b[1;33m\u001b[0m\u001b[0m\n\u001b[0m\u001b[0;32m     77\u001b[0m     \u001b[0mpart\u001b[0m\u001b[1;33m.\u001b[0m\u001b[0mcheck\u001b[0m\u001b[1;33m(\u001b[0m\u001b[1;33m)\u001b[0m\u001b[1;33m\u001b[0m\u001b[0m\n\u001b[0;32m     78\u001b[0m \u001b[1;33m\u001b[0m\u001b[0m\n",
      "\u001b[1;32m~\\Google Drive\\Math\\brazil\\unb_billiards\\code\\parallel new\\gpu_defs.py\u001b[0m in \u001b[0;36mcheck_gpu_sync\u001b[1;34m()\u001b[0m\n\u001b[0;32m     83\u001b[0m \u001b[1;33m\u001b[0m\u001b[0m\n\u001b[0;32m     84\u001b[0m \u001b[1;32mdef\u001b[0m \u001b[0mcheck_gpu_sync\u001b[0m\u001b[1;33m(\u001b[0m\u001b[1;33m)\u001b[0m\u001b[1;33m:\u001b[0m\u001b[1;33m\u001b[0m\u001b[0m\n\u001b[1;32m---> 85\u001b[1;33m     \u001b[0msync\u001b[0m\u001b[1;33m(\u001b[0m\u001b[0mpart\u001b[0m\u001b[1;33m.\u001b[0m\u001b[0mpos\u001b[0m\u001b[1;33m,\u001b[0m \u001b[0mpart\u001b[0m\u001b[1;33m.\u001b[0m\u001b[0mpos_smrt\u001b[0m\u001b[1;33m)\u001b[0m\u001b[1;33m\u001b[0m\u001b[0m\n\u001b[0m\u001b[0;32m     86\u001b[0m     \u001b[0msync\u001b[0m\u001b[1;33m(\u001b[0m\u001b[0mpart\u001b[0m\u001b[1;33m.\u001b[0m\u001b[0mvel\u001b[0m\u001b[1;33m,\u001b[0m \u001b[0mpart\u001b[0m\u001b[1;33m.\u001b[0m\u001b[0mvel_smrt\u001b[0m\u001b[1;33m)\u001b[0m\u001b[1;33m\u001b[0m\u001b[0m\n\u001b[0;32m     87\u001b[0m     \u001b[0msync\u001b[0m\u001b[1;33m(\u001b[0m\u001b[0mpart\u001b[0m\u001b[1;33m.\u001b[0m\u001b[0mpw_mask\u001b[0m\u001b[1;33m,\u001b[0m \u001b[0mpart\u001b[0m\u001b[1;33m.\u001b[0m\u001b[0mpw_mask_smrt\u001b[0m\u001b[1;33m)\u001b[0m\u001b[1;33m\u001b[0m\u001b[0m\n",
      "\u001b[1;31mNameError\u001b[0m: name 'sync' is not defined"
     ]
    }
   ],
   "source": [
    "%run -i billiard_defs.py\n",
    "errors = 0\n",
    "\n",
    "### Parameters\n",
    "NP = np.arange(1,2,1) * sqrt_threads_per_block_max\n",
    "modes = ['serial', 'parallel']\n",
    "# modes = ['parallel']\n",
    "# modes = ['serial']\n",
    "check_gpu_against_cpu = True#False\n",
    "run_time = {key:[] for key in modes}\n",
    "pos = {key:[] for key in modes}\n",
    "\n",
    "for num_part in NP:\n",
    "    for mode in modes:\n",
    "        seed = 15\n",
    "        rnd = np.random.RandomState(seed)\n",
    "\n",
    "        dim = 2\n",
    "        side = 10\n",
    "        \n",
    "        ## compute radius so that particles take up a fixed proportion of the volume of the box\n",
    "        density = 0.1\n",
    "        V_box = side**dim\n",
    "        V_part_box = density * V_box / num_part  # volume of little box each particle must fit into\n",
    "        radius = (V_part_box)**(1/dim) / 2\n",
    "        mass = 4\n",
    "\n",
    "        max_steps = 800\n",
    "        max_records = 4\n",
    "        try:\n",
    "            rec_period = int(np.ceil(max_steps / max_records))\n",
    "        except:\n",
    "            rec_period = 1\n",
    "        if (rec_period < 1) or (rec_period is np.inf):\n",
    "            rec_period = 1\n",
    "\n",
    "        wall = []\n",
    "        for d in range(dim):\n",
    "            for s in [-1,1]:\n",
    "                v = np.zeros(dim, dtype=np_dtype)\n",
    "                v[d] = s*side\n",
    "                wall.append(FlatWall(base_point=v.copy(), normal=-v.copy()))\n",
    "\n",
    "        part = Particles()\n",
    "\n",
    "        # set any initial positions and velocities here\n",
    "\n",
    "        part.initialize()\n",
    "        part.KE_init = part.get_KE()\n",
    "        part.check()\n",
    "        part.record_state()\n",
    "\n",
    "        start = timer()\n",
    "\n",
    "        if mode == 'parallel':\n",
    "            %run -i gpu_defs.py\n",
    "            #exec(open(\"gpu_defs.py\").read())\n",
    "            load_gpu(part)\n",
    "        \n",
    "        def get_col_time(part):\n",
    "            part.get_pw_col_time_cpu()\n",
    "            if mode == 'parallel':\n",
    "                get_pp_col_time_gpu(part)\n",
    "            else:\n",
    "                part.get_pp_col_time_cpu()\n",
    "            part.dt = min([np.min(part.pp_dt), np.min(part.pw_dt)])\n",
    "            return part.dt\n",
    "        \n",
    "        for step in range(max_steps):\n",
    "            next_state(part)\n",
    "            part.check()\n",
    "            if mode == 'parallel':\n",
    "                update_gpu(part)\n",
    "\n",
    "            if step % rec_period == 0:        \n",
    "                print('num_part = {}, step = {}, mode = {}'.format(part.num, step, mode))\n",
    "                part.record_state()\n",
    "                if mode == 'parallel':\n",
    "                    check_gpu_sync()\n",
    "                \n",
    "        part.clean_up()\n",
    "        elapsed = timer() - start\n",
    "        print('Done!! #Particles = {}, Steps = {}, Sim Time = {:2f}, Elapsed Time = {:2f}\\n'.format(part.num, step+1, part.t_hist[-1], elapsed))\n",
    "        run_time[mode].append(elapsed)\n",
    "        pos[mode].append(part.pos_hist.copy())\n",
    "#     print(pos['serial'][-1] - pos['parallel'][-1])\n",
    "#     assert np.allclose(pos['serial'][-1], pos['parallel'][-1], rtol=0.05)"
   ]
  },
  {
   "cell_type": "code",
   "execution_count": 2,
   "metadata": {},
   "outputs": [
    {
     "data": {
      "image/png": "[encoded data removed]",
      "text/plain": [
       "<matplotlib.figure.Figure at 0x1398d46bc50>"
      ]
     },
     "metadata": {},
     "output_type": "display_data"
    }
   ],
   "source": [
    "w = min([len(t) for k,t in run_time.items()])\n",
    "for mode, time in run_time.items():\n",
    "    plt.plot(NP[:w], run_time[mode][:w], label=mode)\n",
    "plt.legend()\n",
    "plt.xlabel('number of particles')\n",
    "plt.ylabel('run time')\n",
    "plt.title('number of steps = {}'.format(max_steps))\n",
    "plt.show()"
   ]
  },
  {
   "cell_type": "code",
   "execution_count": 4,
   "metadata": {},
   "outputs": [
    {
     "data": {
      "application/vnd.jupyter.widget-view+json": {
       "model_id": "d0d1c152a6d9457b93d2fed81c9febd8",
       "version_major": 2,
       "version_minor": 0
      },
      "text/html": [
       "<p>Failed to display Jupyter Widget of type <code>HBox</code>.</p>\n",
       "<p>\n",
       "  If you're reading this message in the Jupyter Notebook or JupyterLab Notebook, it may mean\n",
       "  that the widgets JavaScript is still loading. If this message persists, it\n",
       "  likely means that the widgets JavaScript library is either not installed or\n",
       "  not enabled. See the <a href=\"https://ipywidgets.readthedocs.io/en/stable/user_install.html\">Jupyter\n",
       "  Widgets Documentation</a> for setup instructions.\n",
       "</p>\n",
       "<p>\n",
       "  If you're reading this message in another frontend (for example, a static\n",
       "  rendering on GitHub or <a href=\"https://nbviewer.jupyter.org/\">NBViewer</a>),\n",
       "  it may mean that your frontend doesn't currently support widgets.\n",
       "</p>\n"
      ],
      "text/plain": [
       "HBox(children=(VBox(children=(BoundedIntText(value=0, layout=Layout(width='150px'), max=2), IntSlider(value=0, continuous_update=False, layout=Layout(width='150px'), max=2, readout=False), Play(value=0, interval=50, layout=Layout(width='150px'), max=2))), Output()))"
      ]
     },
     "metadata": {},
     "output_type": "display_data"
    },
    {
     "data": {
      "image/png": "[encoded data removed]",
      "text/plain": [
       "<matplotlib.figure.Figure at 0x1c3ca0d9f98>"
      ]
     },
     "metadata": {},
     "output_type": "display_data"
    }
   ],
   "source": [
    "if dim != 2:\n",
    "    raise Exception('only works in 2D')\n",
    "    \n",
    "num_steps = len(part.t_hist)\n",
    "\n",
    "mesh = np.linspace(0,2*np.pi,100)\n",
    "circle = [np.cos(mesh), np.sin(mesh)]\n",
    "circle = radius * np.array(circle)\n",
    "def draw(s=0):\n",
    "    s %= num_steps\n",
    "    fig, ax = plt.subplots(figsize=[8,8]);\n",
    "    ax.plot([side,-side,-side,side,side], [side,side,-side,-side,side], color='black')    \n",
    "    for p in range(part.num):\n",
    "        ax.plot(part.pos_hist[:s+1,p,0], part.pos_hist[:s+1,p,1], color=part.clr[p])\n",
    "        center = part.pos_hist[s,p]\n",
    "        bdy = circle + center[:,np.newaxis]\n",
    "        ax.plot(*bdy, color=part.clr[p])\n",
    "    ax.set_aspect('equal')\n",
    "    \n",
    "\n",
    "l = widgets.Layout(width='150px')\n",
    "step_text = widgets.BoundedIntText(min=0, max=num_steps-1, value=0, layout=l)\n",
    "step_slider = widgets.IntSlider(min=0, max=num_steps-1, value=0, readout=False, continuous_update=False, layout=l)\n",
    "play_button = widgets.Play(min=0, max=num_steps-1, step=1, interval=50, layout=l)\n",
    "\n",
    "widgets.jslink((step_text, 'value'), (step_slider, 'value'))\n",
    "widgets.jslink((step_text, 'value'), (play_button, 'value'))\n",
    "\n",
    "img = widgets.interactive_output(draw, {'s':step_text})\n",
    "display(widgets.HBox([widgets.VBox([step_text, step_slider, play_button]), img]))\n"
   ]
  }
 ],
 "metadata": {
  "kernelspec": {
   "display_name": "Python 3",
   "language": "python",
   "name": "python3"
  },
  "language_info": {
   "codemirror_mode": {
    "name": "ipython",
    "version": 3
   },
   "file_extension": ".py",
   "mimetype": "text/x-python",
   "name": "python",
   "nbconvert_exporter": "python",
   "pygments_lexer": "ipython3",
   "version": "3.6.4"
  }
 },
 "nbformat": 4,
 "nbformat_minor": 2
}
