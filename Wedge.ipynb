{
 "cells": [
  {
   "cell_type": "code",
   "execution_count": 22,
   "metadata": {},
   "outputs": [
    {
     "data": {
      "text/plain": [
       "array([[ 1.,  0.,  0.],\n",
       "       [ 0.,  1.,  0.],\n",
       "       [ 0.,  0.,  1.]])"
      ]
     },
     "execution_count": 22,
     "metadata": {},
     "output_type": "execute_result"
    }
   ],
   "source": [
    "np.eye(3,3)"
   ]
  },
  {
   "cell_type": "code",
   "execution_count": 20,
   "metadata": {},
   "outputs": [
    {
     "name": "stdout",
     "output_type": "stream",
     "text": [
      "[  0.00000000e+00   4.99600361e-15   0.00000000e+00]\n"
     ]
    },
    {
     "ename": "Exception",
     "evalue": "A must be a square matrix",
     "output_type": "error",
     "traceback": [
      "\u001b[1;31m---------------------------------------------------------------------------\u001b[0m",
      "\u001b[1;31mException\u001b[0m                                 Traceback (most recent call last)",
      "\u001b[1;32m~\\google drive\\Math\\billiard_2017_11\\no_slip_billiards\\program\\analysis.py\u001b[0m in \u001b[0;36m<module>\u001b[1;34m()\u001b[0m\n\u001b[0;32m     16\u001b[0m \u001b[0mA\u001b[0m \u001b[1;33m=\u001b[0m \u001b[0mnp\u001b[0m\u001b[1;33m.\u001b[0m\u001b[0marange\u001b[0m\u001b[1;33m(\u001b[0m\u001b[1;36m3\u001b[0m\u001b[1;33m**\u001b[0m\u001b[1;36m3\u001b[0m\u001b[1;33m)\u001b[0m\u001b[1;33m.\u001b[0m\u001b[0mreshape\u001b[0m\u001b[1;33m(\u001b[0m\u001b[1;36m3\u001b[0m\u001b[1;33m,\u001b[0m\u001b[1;36m3\u001b[0m\u001b[1;33m,\u001b[0m\u001b[1;36m3\u001b[0m\u001b[1;33m)\u001b[0m\u001b[1;33m\u001b[0m\u001b[0m\n\u001b[0;32m     17\u001b[0m \u001b[0mprint\u001b[0m\u001b[1;33m(\u001b[0m\u001b[0mnp\u001b[0m\u001b[1;33m.\u001b[0m\u001b[0mlinalg\u001b[0m\u001b[1;33m.\u001b[0m\u001b[0mdet\u001b[0m\u001b[1;33m(\u001b[0m\u001b[0mA\u001b[0m\u001b[1;33m)\u001b[0m\u001b[1;33m)\u001b[0m\u001b[1;33m\u001b[0m\u001b[0m\n\u001b[1;32m---> 18\u001b[1;33m \u001b[0mB\u001b[0m \u001b[1;33m=\u001b[0m \u001b[0mmake_special_orthogonal\u001b[0m\u001b[1;33m(\u001b[0m\u001b[0mA\u001b[0m\u001b[1;33m)\u001b[0m\u001b[1;33m\u001b[0m\u001b[0m\n\u001b[0m\u001b[0;32m     19\u001b[0m \u001b[0mprint\u001b[0m\u001b[1;33m(\u001b[0m\u001b[0mnp\u001b[0m\u001b[1;33m.\u001b[0m\u001b[0mlinalg\u001b[0m\u001b[1;33m.\u001b[0m\u001b[0mdet\u001b[0m\u001b[1;33m(\u001b[0m\u001b[0mB\u001b[0m\u001b[1;33m)\u001b[0m\u001b[1;33m)\u001b[0m\u001b[1;33m\u001b[0m\u001b[0m\n",
      "\u001b[1;32m~\\google drive\\Math\\billiard_2017_11\\no_slip_billiards\\program\\analysis.py\u001b[0m in \u001b[0;36mmake_special_orthogonal\u001b[1;34m(A)\u001b[0m\n\u001b[0;32m     11\u001b[0m         \u001b[0mU\u001b[0m \u001b[1;33m=\u001b[0m \u001b[1;33m(\u001b[0m\u001b[1;36m1\u001b[0m\u001b[1;33m/\u001b[0m\u001b[0mk\u001b[0m\u001b[1;33m)\u001b[0m \u001b[1;33m*\u001b[0m \u001b[0mA\u001b[0m\u001b[1;33m\u001b[0m\u001b[0m\n\u001b[0;32m     12\u001b[0m     \u001b[1;32melse\u001b[0m\u001b[1;33m:\u001b[0m\u001b[1;33m\u001b[0m\u001b[0m\n\u001b[1;32m---> 13\u001b[1;33m         \u001b[1;32mraise\u001b[0m \u001b[0mException\u001b[0m\u001b[1;33m(\u001b[0m\u001b[1;34m'A must be a square matrix'\u001b[0m\u001b[1;33m)\u001b[0m\u001b[1;33m\u001b[0m\u001b[0m\n\u001b[0m\u001b[0;32m     14\u001b[0m     \u001b[1;32mreturn\u001b[0m \u001b[0mU\u001b[0m\u001b[1;33m\u001b[0m\u001b[0m\n\u001b[0;32m     15\u001b[0m \u001b[0mA\u001b[0m \u001b[1;33m=\u001b[0m \u001b[0mnp\u001b[0m\u001b[1;33m.\u001b[0m\u001b[0mrandom\u001b[0m\u001b[1;33m.\u001b[0m\u001b[0mrand\u001b[0m\u001b[1;33m(\u001b[0m\u001b[1;36m3\u001b[0m\u001b[1;33m,\u001b[0m\u001b[1;36m3\u001b[0m\u001b[1;33m)\u001b[0m\u001b[1;33m\u001b[0m\u001b[0m\n",
      "\u001b[1;31mException\u001b[0m: A must be a square matrix"
     ]
    }
   ],
   "source": [
    "def make_special_orthogonal(A):\n",
    "    \"\"\"\n",
    "    Returns symmetric matrix by copying -1*upper triangular onto lower.\n",
    "    \"\"\"\n",
    "    A = np.asarray(A)\n",
    "    sh = A.shape\n",
    "    if (len(sh) == 2) & (sh[0] == sh[1]):\n",
    "        k = (np.linalg.det(A))**(1/sh[0])\n",
    "        if abs(k) < 1e-4:\n",
    "            raise Exception('A has determinant 0 - can not be a rotation')\n",
    "        U = (1/k) * A\n",
    "    else:\n",
    "        raise Exception('A must be a square matrix')\n",
    "    return U\n",
    "A = np.random.rand(3,3)\n",
    "A = np.arange(3**3).reshape(3,3,3)\n",
    "print(np.linalg.det(A))\n",
    "B = make_special_orthogonal(A)\n",
    "print(np.linalg.det(B))"
   ]
  },
  {
   "cell_type": "code",
   "execution_count": 1,
   "metadata": {
    "collapsed": true
   },
   "outputs": [],
   "source": [
    "#setup 3D Wedge\n",
    "%run -i program/billiard_defs.py\n",
    "%run -i program/analysis.py\n",
    "\n",
    "dim = 3\n",
    "max_steps = 50\n",
    "pw_collision_law = 'no_slip'\n",
    "# pw_collision_law = 'specular'\n",
    "\n",
    "wedge_vertex = np.array([0,0,0])\n",
    "wedge_axis = munit(np.array([1,0,0]))\n",
    "wedge_height = 100\n",
    "wedge_vertex_angle = np.pi/6\n",
    "cosva = np.cos(wedge_vertex_angle)\n",
    "sinva = np.sin(wedge_vertex_angle)\n",
    "\n",
    "r = wedge_height * np.tan(wedge_vertex_angle)\n",
    "\n",
    "# wall = [FlatWall(name='left', pos=wedge_vertex, normal=[0,cosva,sinva], half_length=30, collision_law=pw_collision_law)\n",
    "#        ,FlatWall(name='right',pos=wedge_vertex, normal=[0,-1*cosva,sinva], half_length=30, collision_law=pw_collision_law)\n",
    "#        ]\n",
    "wall = [FlatWall(name='left', pos=wedge_vertex, basis=np.array([[0,cosva,sinva],[1,0,0]]), half_length=30, collision_law=pw_collision_law)\n",
    "       ,FlatWall(name='right',pos=wedge_vertex, basis=np.array([[0,-1*cosva,sinva],[1,0,0]]), half_length=30, collision_law=pw_collision_law)\n",
    "       ]\n",
    "\n",
    "lab_frame = wall[0].basis.copy()\n",
    "\n",
    "bounding_box = np.array([[-r,r]\n",
    "                         ,[-r,r]\n",
    "                         ,[0,wedge_height]\n",
    "                        ])\n",
    "\n",
    "# Used for visualization later\n",
    "surface_data_dict = []\n",
    "for w in wall:\n",
    "    w.parametrize()\n",
    "    data_dict = {\n",
    "        'name': w.name,\n",
    "        'type': 'surface',\n",
    "        'opacity': 0.4,\n",
    "        'colorscale': [[0, 'rgb(0,0,255)'], [1, 'rgb(0,0,255)']],\n",
    "        'showscale': False,\n",
    "        'x': w.param[0],\n",
    "        'y': w.param[1],\n",
    "        'z': w.param[2]\n",
    "    }\n",
    "    surface_data_dict.append(data_dict)"
   ]
  },
  {
   "cell_type": "code",
   "execution_count": 2,
   "metadata": {
    "collapsed": true
   },
   "outputs": [],
   "source": [
    "# Setup particles\n",
    "\n",
    "num_part = 1\n",
    "mass = 1\n",
    "gamma = 'uniform'  #parameter btw 0 mass at center) and sqrt(2/dim) (mass on outside shell)\n",
    "radius = 1\n",
    "temp = 10\n",
    "pp_collision_law = 'no_slip'\n",
    "# pp_collision_law = 'specular'\n",
    "\n",
    "init_pos = [0,0,20]\n",
    "init_vel = [.1, -1.0, 0]\n"
   ]
  },
  {
   "cell_type": "code",
   "execution_count": 7,
   "metadata": {},
   "outputs": [
    {
     "name": "stdout",
     "output_type": "stream",
     "text": [
      "[[  0.   0.  20.]]\n",
      "[[ 0.1 -1.   0. ]]\n",
      "[[[ 0.    0.    0.  ]\n",
      "  [ 0.    0.    1.25]\n",
      "  [ 0.   -1.25  0.  ]]]\n",
      "Finished it all.  There are 11 frames in this animation of 1 particles.\n"
     ]
    }
   ],
   "source": [
    "%run -i program/billiard_defs.py\n",
    "%run -i program/analysis.py\n",
    "\n",
    "max_steps = 10\n",
    "max_distort = 1000  # Used after experiment to determine whether to interpolate between collisions\n",
    "# If so, how much distortion to allow.  Must be 0-100, smaller <-> more frames and smoother, but longer \n",
    "# processing and larger files.  Anything other than 0-100 will turn off smoothing\n",
    "\n",
    "try:\n",
    "    step = 'init'\n",
    "    part = Particles(wall, num=num_part, mass=mass, gamma=gamma\n",
    "                 ,radius=radius, temp=temp, collision_law=pp_collision_law\n",
    "                 ,pos=init_pos  # comment this line out for random init pos\n",
    "                 ,vel=init_vel  # comment this line out for random init vel\n",
    "                 #,spin=init_spin\n",
    "                )\n",
    "    init_spin = [sinva * part.vel[0,1] / (part.radius[0] * part.gamma[0]**2), 0, 0]\n",
    "    part.spin[0] = v_to_m(init_spin)\n",
    "    print(part.pos)\n",
    "    print(part.vel)\n",
    "    print(part.spin)\n",
    "    init(wall, part)\n",
    "    for step in range(max_steps):\n",
    "        do_the_evolution()\n",
    "except:\n",
    "    error_report()\n",
    "\n",
    "re_t, re_pos, re_vel, re_rot, re_spin = smoother(max_distort)\n",
    "S, P, D, M = re_pos.shape\n",
    "\n",
    "print(\"Finished it all.  There are {} frames in this animation of {} particles.\".format(S, P))"
   ]
  },
  {
   "cell_type": "code",
   "execution_count": 10,
   "metadata": {},
   "outputs": [
    {
     "data": {
      "text/plain": [
       "array([[  8.52765222,  10.39230485,  20.        ]])"
      ]
     },
     "execution_count": 10,
     "metadata": {},
     "output_type": "execute_result"
    }
   ],
   "source": [
    "part.pos"
   ]
  },
  {
   "cell_type": "code",
   "execution_count": 9,
   "metadata": {},
   "outputs": [
    {
     "name": "stdout",
     "output_type": "stream",
     "text": [
      "using newer\n"
     ]
    },
    {
     "data": {
      "text/html": [
       "<script>requirejs.config({paths: { 'plotly': ['https://cdn.plot.ly/plotly-latest.min']},});if(!window.Plotly) {{require(['plotly'],function(plotly) {window.Plotly=plotly;});}}</script>"
      ],
      "text/vnd.plotly.v1+html": [
       "<script>requirejs.config({paths: { 'plotly': ['https://cdn.plot.ly/plotly-latest.min']},});if(!window.Plotly) {{require(['plotly'],function(plotly) {window.Plotly=plotly;});}}</script>"
      ]
     },
     "metadata": {},
     "output_type": "display_data"
    },
    {
     "name": "stderr",
     "output_type": "stream",
     "text": [
      "IOPub data rate exceeded.\n",
      "The notebook server will temporarily stop sending output\n",
      "to the client in order to avoid crashing it.\n",
      "To change this limit, set the config variable\n",
      "`--NotebookApp.iopub_data_rate_limit`.\n"
     ]
    }
   ],
   "source": [
    "interactive_plotly()"
   ]
  },
  {
   "cell_type": "code",
   "execution_count": 30,
   "metadata": {},
   "outputs": [
    {
     "data": {
      "text/plain": [
       "array([  0.        ,  10.39230485, -10.39230485,  10.39230485,\n",
       "       -10.39230485,  10.39230485, -10.39230485,  10.39230485,\n",
       "       -10.39230485,  10.39230485, -10.39230485,  10.39230485,\n",
       "       -10.39230485,  10.39230485, -10.39230485,  10.39230485,\n",
       "       -10.39230485,  10.39230485, -10.39230485,  10.39230485,\n",
       "       -10.39230485,  10.39230485, -10.39230485,  10.39230485,\n",
       "       -10.39230485,  10.39230485, -10.39230485,  10.39230485,\n",
       "       -10.39230485,  10.39230485, -10.39230485,  10.39230485,\n",
       "       -10.39230485,  10.39230485, -10.39230485,  10.39230485,\n",
       "       -10.39230485,  10.39230485, -10.39230485,  10.39230485, -10.39230485])"
      ]
     },
     "execution_count": 30,
     "metadata": {},
     "output_type": "execute_result"
    }
   ],
   "source": [
    "pos_hist[:,0,0]"
   ]
  }
 ],
 "metadata": {
  "kernelspec": {
   "display_name": "Python 3",
   "language": "python",
   "name": "python3"
  },
  "language_info": {
   "codemirror_mode": {
    "name": "ipython",
    "version": 3
   },
   "file_extension": ".py",
   "mimetype": "text/x-python",
   "name": "python",
   "nbconvert_exporter": "python",
   "pygments_lexer": "ipython3",
   "version": "3.6.3"
  }
 },
 "nbformat": 4,
 "nbformat_minor": 2
}
